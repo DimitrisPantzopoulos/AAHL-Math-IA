{
 "cells": [
  {
   "cell_type": "code",
   "execution_count": 1,
   "id": "f7ca0fbd",
   "metadata": {},
   "outputs": [],
   "source": [
    "%load_ext autoreload\n",
    "%autoreload 2"
   ]
  },
  {
   "cell_type": "code",
   "execution_count": 3,
   "id": "f5a92b5e",
   "metadata": {},
   "outputs": [],
   "source": [
    "import matplotlib.pyplot as plt\n",
    "import pandas as pd\n",
    "import numpy  as np "
   ]
  },
  {
   "cell_type": "code",
   "execution_count": 19,
   "id": "d65f99d9",
   "metadata": {},
   "outputs": [],
   "source": [
    "df: pd.DataFrame = pd.read_csv(r\"Data\\all_time_ufc_rankings.csv\", index_col=0)"
   ]
  },
  {
   "cell_type": "code",
   "execution_count": 20,
   "id": "3afdd976",
   "metadata": {},
   "outputs": [
    {
     "data": {
      "text/html": [
       "<div>\n",
       "<style scoped>\n",
       "    .dataframe tbody tr th:only-of-type {\n",
       "        vertical-align: middle;\n",
       "    }\n",
       "\n",
       "    .dataframe tbody tr th {\n",
       "        vertical-align: top;\n",
       "    }\n",
       "\n",
       "    .dataframe thead th {\n",
       "        text-align: right;\n",
       "    }\n",
       "</style>\n",
       "<table border=\"1\" class=\"dataframe\">\n",
       "  <thead>\n",
       "    <tr style=\"text-align: right;\">\n",
       "      <th></th>\n",
       "      <th>Striking</th>\n",
       "      <th>Grappling</th>\n",
       "      <th>Wrestling</th>\n",
       "      <th>origin_elo</th>\n",
       "    </tr>\n",
       "  </thead>\n",
       "  <tbody>\n",
       "    <tr>\n",
       "      <th>Jon Jones</th>\n",
       "      <td>1739.610643</td>\n",
       "      <td>1722.151544</td>\n",
       "      <td>1827.391757</td>\n",
       "      <td>3054.735956</td>\n",
       "    </tr>\n",
       "    <tr>\n",
       "      <th>Dustin Poirier</th>\n",
       "      <td>1700.964271</td>\n",
       "      <td>1661.992469</td>\n",
       "      <td>1764.573736</td>\n",
       "      <td>2961.286695</td>\n",
       "    </tr>\n",
       "    <tr>\n",
       "      <th>Georges St-Pierre</th>\n",
       "      <td>1673.102857</td>\n",
       "      <td>1704.088916</td>\n",
       "      <td>1740.120432</td>\n",
       "      <td>2954.862318</td>\n",
       "    </tr>\n",
       "    <tr>\n",
       "      <th>Jim Miller</th>\n",
       "      <td>1573.956283</td>\n",
       "      <td>1745.681375</td>\n",
       "      <td>1771.505511</td>\n",
       "      <td>2943.292989</td>\n",
       "    </tr>\n",
       "    <tr>\n",
       "      <th>Donald Cerrone</th>\n",
       "      <td>1662.694511</td>\n",
       "      <td>1625.058251</td>\n",
       "      <td>1762.543616</td>\n",
       "      <td>2917.520755</td>\n",
       "    </tr>\n",
       "    <tr>\n",
       "      <th>...</th>\n",
       "      <td>...</td>\n",
       "      <td>...</td>\n",
       "      <td>...</td>\n",
       "      <td>...</td>\n",
       "    </tr>\n",
       "    <tr>\n",
       "      <th>Joshua Burkman</th>\n",
       "      <td>1422.555785</td>\n",
       "      <td>1438.749049</td>\n",
       "      <td>1429.893655</td>\n",
       "      <td>2477.551140</td>\n",
       "    </tr>\n",
       "    <tr>\n",
       "      <th>Jessica Eye</th>\n",
       "      <td>1421.296784</td>\n",
       "      <td>1433.767177</td>\n",
       "      <td>1427.995289</td>\n",
       "      <td>2472.841162</td>\n",
       "    </tr>\n",
       "    <tr>\n",
       "      <th>Hector Lombard</th>\n",
       "      <td>1424.174447</td>\n",
       "      <td>1443.109334</td>\n",
       "      <td>1411.243073</td>\n",
       "      <td>2470.312615</td>\n",
       "    </tr>\n",
       "    <tr>\n",
       "      <th>Takanori Gomi</th>\n",
       "      <td>1412.160840</td>\n",
       "      <td>1428.037516</td>\n",
       "      <td>1433.484382</td>\n",
       "      <td>2467.461623</td>\n",
       "    </tr>\n",
       "    <tr>\n",
       "      <th>Chase Sherman</th>\n",
       "      <td>1386.127161</td>\n",
       "      <td>1417.208454</td>\n",
       "      <td>1421.580902</td>\n",
       "      <td>2439.409882</td>\n",
       "    </tr>\n",
       "  </tbody>\n",
       "</table>\n",
       "<p>2572 rows × 4 columns</p>\n",
       "</div>"
      ],
      "text/plain": [
       "                      Striking    Grappling    Wrestling   origin_elo\n",
       "Jon Jones          1739.610643  1722.151544  1827.391757  3054.735956\n",
       "Dustin Poirier     1700.964271  1661.992469  1764.573736  2961.286695\n",
       "Georges St-Pierre  1673.102857  1704.088916  1740.120432  2954.862318\n",
       "Jim Miller         1573.956283  1745.681375  1771.505511  2943.292989\n",
       "Donald Cerrone     1662.694511  1625.058251  1762.543616  2917.520755\n",
       "...                        ...          ...          ...          ...\n",
       "Joshua Burkman     1422.555785  1438.749049  1429.893655  2477.551140\n",
       "Jessica Eye        1421.296784  1433.767177  1427.995289  2472.841162\n",
       "Hector Lombard     1424.174447  1443.109334  1411.243073  2470.312615\n",
       "Takanori Gomi      1412.160840  1428.037516  1433.484382  2467.461623\n",
       "Chase Sherman      1386.127161  1417.208454  1421.580902  2439.409882\n",
       "\n",
       "[2572 rows x 4 columns]"
      ]
     },
     "execution_count": 20,
     "metadata": {},
     "output_type": "execute_result"
    }
   ],
   "source": [
    "df"
   ]
  },
  {
   "cell_type": "code",
   "execution_count": null,
   "id": "dd45dedb",
   "metadata": {},
   "outputs": [
    {
     "data": {
      "image/png": "[encoded data removed]",
      "text/plain": [
       "<Figure size 640x480 with 1 Axes>"
      ]
     },
     "metadata": {},
     "output_type": "display_data"
    }
   ],
   "source": [
    "plt.hist(df['Striking'].values,  bins=100, color='red',   alpha=0.45)\n",
    "plt.hist(df['Grappling'].values, bins=100, color='blue',  alpha=0.45)\n",
    "plt.hist(df['Wrestling'].values, bins=100, color='green', alpha=0.45)\n",
    "\n",
    "plt.title(\"Elo Distribution\")\n",
    "plt.xlabel(\"Elo\")\n",
    "plt.ylabel(\"Frequency\")\n",
    "plt.show()"
   ]
  }
 ],
 "metadata": {
  "kernelspec": {
   "display_name": "Python 3",
   "language": "python",
   "name": "python3"
  },
  "language_info": {
   "codemirror_mode": {
    "name": "ipython",
    "version": 3
   },
   "file_extension": ".py",
   "mimetype": "text/x-python",
   "name": "python",
   "nbconvert_exporter": "python",
   "pygments_lexer": "ipython3",
   "version": "3.11.8"
  }
 },
 "nbformat": 4,
 "nbformat_minor": 5
}
